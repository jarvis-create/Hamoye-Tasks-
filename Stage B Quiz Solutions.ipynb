{
 "metadata": {
  "language_info": {
   "codemirror_mode": {
    "name": "ipython",
    "version": 3
   },
   "file_extension": ".py",
   "mimetype": "text/x-python",
   "name": "python",
   "nbconvert_exporter": "python",
   "pygments_lexer": "ipython3",
   "version": "3.7.4-final"
  },
  "orig_nbformat": 2,
  "kernelspec": {
   "name": "python3",
   "display_name": "Python 3"
  }
 },
 "nbformat": 4,
 "nbformat_minor": 2,
 "cells": [
  {
   "cell_type": "code",
   "execution_count": 1,
   "metadata": {},
   "outputs": [],
   "source": [
    "#importing libaries\n",
    "import pandas as pd \n",
    "import numpy as np"
   ]
  },
  {
   "cell_type": "code",
   "execution_count": 2,
   "metadata": {},
   "outputs": [],
   "source": [
    "#importing visulaization libaries \n",
    "import matplotlib.pyplot as plt\n",
    "import seaborn as sns\n",
    "%matplotlib inline"
   ]
  },
  {
   "cell_type": "code",
   "execution_count": 249,
   "metadata": {},
   "outputs": [],
   "source": [
    "#a libarary for detailed descriptive analysis\n",
    "import pandas_profiling"
   ]
  },
  {
   "cell_type": "code",
   "execution_count": 295,
   "metadata": {},
   "outputs": [],
   "source": [
    "#reading the dataset into a pandas datframe\n",
    "df=pd.read_csv(r'C:\\Users\\m_joekid\\Desktop\\Vscodes\\datasets\\energydata_complete.csv')"
   ]
  },
  {
   "cell_type": "markdown",
   "metadata": {},
   "source": [
    "## Highlights\n",
    "- dropped 'date' since we won't be exploiting as a time-series Problem\n",
    "- dropped 'lights' since it has too many zeros to be considered useful (77.3%)"
   ]
  },
  {
   "cell_type": "code",
   "execution_count": 56,
   "metadata": {},
   "outputs": [],
   "source": [
    "#sklearn minmax scaler to transform the dataset\n",
    "from sklearn.preprocessing import MinMaxScaler"
   ]
  },
  {
   "cell_type": "code",
   "execution_count": 55,
   "metadata": {},
   "outputs": [],
   "source": [
    "from sklearn.pipeline import Pipeline\n",
    "from sklearn.linear_model import LinearRegression,Lasso,Ridge\n",
    "from sklearn.model_selection import train_test_split"
   ]
  },
  {
   "cell_type": "code",
   "execution_count": 145,
   "metadata": {},
   "outputs": [],
   "source": [
    "from sklearn import metrics"
   ]
  },
  {
   "cell_type": "code",
   "execution_count": 98,
   "metadata": {},
   "outputs": [],
   "source": [
    "df.drop(['date','lights'],axis=1,inplace=True)"
   ]
  },
  {
   "cell_type": "code",
   "execution_count": 99,
   "metadata": {},
   "outputs": [],
   "source": [
    "# transforms the dataset using the minmax scaler \n",
    "df_trans=pd.DataFrame(MinmaxScaler().fit_transform(df),columns=df.columns)"
   ]
  },
  {
   "cell_type": "code",
   "execution_count": 138,
   "metadata": {},
   "outputs": [],
   "source": [
    "#setting the independent variables as X and the target/dependent variable as y\n",
    "X=df_trans.drop('Appliances',axis=1)\n",
    "y=df_trans['Appliances']"
   ]
  },
  {
   "cell_type": "code",
   "execution_count": 140,
   "metadata": {},
   "outputs": [],
   "source": [
    "#this splits the dataset into training and test sets with 30% being the latter \n",
    "X_train,X_test, y_train, y_test = train_test_split(X, y, test_size=0.3, random_state=42)"
   ]
  },
  {
   "cell_type": "code",
   "execution_count": 141,
   "metadata": {},
   "outputs": [],
   "source": [
    "#using a pipeline makes possible future transforms cleaner and less tasking\n",
    "linear_pipe=Pipeline([('lr',LinearRegression())])\n",
    "lasso_pipe=Pipeline([('lasso',Lasso(alpha=0.001))])\n",
    "ridge_pipe=Pipeline([('ridge',Ridge(alpha=0.4))])"
   ]
  },
  {
   "cell_type": "markdown",
   "metadata": {},
   "source": [
    "## Simple Linear Regression \n",
    "- ### Question 12"
   ]
  },
  {
   "cell_type": "code",
   "execution_count": 298,
   "metadata": {},
   "outputs": [],
   "source": [
    "x_train, x_test, Y_train, Y_test = train_test_split(x, Y, test_size=0.3, random_state=42)"
   ]
  },
  {
   "cell_type": "code",
   "execution_count": 299,
   "metadata": {},
   "outputs": [],
   "source": [
    "x=df_trans[['T6']] #temperature in the living room\n",
    "Y=df_trans['T2'] #temperature outside the building "
   ]
  },
  {
   "cell_type": "code",
   "execution_count": 300,
   "metadata": {},
   "outputs": [
    {
     "output_type": "execute_result",
     "data": {
      "text/plain": "0.64"
     },
     "metadata": {},
     "execution_count": 300
    }
   ],
   "source": [
    "model=LinearRegression()\n",
    "model.fit(x_train,Y_train)\n",
    "model_pred=model.predict(x_test)\n",
    "metrics.r2_score(Y_test,model_pred).round(2)"
   ]
  },
  {
   "cell_type": "markdown",
   "metadata": {},
   "source": [
    "## Multiple Linear Regression"
   ]
  },
  {
   "cell_type": "code",
   "execution_count": 142,
   "metadata": {},
   "outputs": [],
   "source": [
    "#fitting the train data to the multiple linear regression model and predicting on the test set\n",
    "linear_pipe.fit(X_train,y_train)\n",
    "linear_pred=linear_pipe.predict(X_test)"
   ]
  },
  {
   "cell_type": "markdown",
   "metadata": {},
   "source": [
    "## Ridge Regression\n"
   ]
  },
  {
   "cell_type": "code",
   "execution_count": 144,
   "metadata": {},
   "outputs": [],
   "source": [
    "#fitting the train data to the ridge regression model and predicting on test\n",
    "ridge_pipe.fit(X_train,y_train)\n",
    "ridge_pred=ridge_pipe.predict(X_test)"
   ]
  },
  {
   "cell_type": "markdown",
   "metadata": {},
   "source": [
    "## Lasso Regression"
   ]
  },
  {
   "cell_type": "code",
   "execution_count": 291,
   "metadata": {},
   "outputs": [],
   "source": [
    "#fitting the train data to the lasso regression model and predicting on test\n",
    "lasso_pipe.fit(X_train,y_train)\n",
    "lasso_pred=lasso_pipe.predict(X_test)"
   ]
  },
  {
   "cell_type": "markdown",
   "metadata": {},
   "source": [
    "## Metrics \n",
    "- 'mae' Mean absolute error\n",
    "- 'r2' Coefficient of determination\n",
    "- 'rss' Residual Sum of squares\n",
    "- 'mse' Mean Squared Error\n",
    "- 'rmse' Root Mean Squared Error"
   ]
  },
  {
   "cell_type": "code",
   "execution_count": 271,
   "metadata": {
    "tags": []
   },
   "outputs": [],
   "source": [
    "lin_mae= metrics.mean_absolute_error(y_test,linear_pred)\n",
    "lin_r2= metrics.r2_score(y_test,linear_pred)\n",
    "lin_rss=np.sum(np.square(y_test - linear_pred))\n",
    "lin_mse= metrics.mean_squared_error(y_test,linear_pred)"
   ]
  },
  {
   "cell_type": "code",
   "execution_count": 309,
   "metadata": {},
   "outputs": [],
   "source": [
    "lasso_mse=metrics.mean_squared_error(y_test,lasso_pred)\n",
    "lasso_rmse=np.sqrt(lasso_mse)"
   ]
  },
  {
   "cell_type": "code",
   "execution_count": 311,
   "metadata": {},
   "outputs": [],
   "source": [
    "ridge_mse=metrics.mean_squared_error(y_test,ridge_pred)\n",
    "ridge_rmse=np.sqrt(ridge_mse)"
   ]
  },
  {
   "cell_type": "markdown",
   "metadata": {},
   "source": [
    "### Question 13-16"
   ]
  },
  {
   "cell_type": "code",
   "execution_count": 312,
   "metadata": {
    "tags": []
   },
   "outputs": [
    {
     "output_type": "stream",
     "name": "stdout",
     "text": "mae of linear model: 0.05\nrss of linear model: 45.35\nrmse of linear model: 0.088\nr2 of linear model: 0.15\n"
    }
   ],
   "source": [
    "print ('mae of linear model:',lin_mae.round(2))\n",
    "print ('rss of linear model:',lin_rss.round(2))\n",
    "print ('rmse of linear model:',np.sqrt(lin_mse).round(3))\n",
    "print ('r2 of linear model:',lin_r2.round(2))"
   ]
  },
  {
   "cell_type": "markdown",
   "metadata": {},
   "source": [
    "### Question 18"
   ]
  },
  {
   "cell_type": "code",
   "execution_count": 315,
   "metadata": {
    "tags": []
   },
   "outputs": [
    {
     "output_type": "stream",
     "name": "stdout",
     "text": "rmse of ridge model: 0.088\n"
    }
   ],
   "source": [
    "print ('rmse of ridge model:',ridge_rmse.round(3))"
   ]
  },
  {
   "cell_type": "markdown",
   "metadata": {},
   "source": [
    "### Question 20"
   ]
  },
  {
   "cell_type": "code",
   "execution_count": 317,
   "metadata": {
    "tags": []
   },
   "outputs": [
    {
     "output_type": "stream",
     "name": "stdout",
     "text": "rmse of lasso model: 0.094\n"
    }
   ],
   "source": [
    "print ('rmse of lasso model:',lasso_rmse.round(3))"
   ]
  },
  {
   "cell_type": "markdown",
   "metadata": {},
   "source": [
    "## Weights"
   ]
  },
  {
   "cell_type": "code",
   "execution_count": 319,
   "metadata": {},
   "outputs": [],
   "source": [
    "lasso_weights=pd.DataFrame(lasso_pipe['lasso'].coef_,X.columns,columns=['lasso weight'])\n",
    "lin_weights=pd.DataFrame(linear_pipe['lr'].coef_,X.columns,columns=['linear weight'])\n",
    "ridge_weights=pd.DataFrame(ridge_pipe['ridge'].coef_,X.columns,columns=['ridge weight'])"
   ]
  },
  {
   "cell_type": "markdown",
   "metadata": {},
   "source": [
    "### Question 17"
   ]
  },
  {
   "cell_type": "code",
   "execution_count": 324,
   "metadata": {
    "tags": []
   },
   "outputs": [
    {
     "output_type": "stream",
     "name": "stdout",
     "text": "linear weight    RH_1\ndtype: object\nlinear weight    RH_2\ndtype: object\n"
    }
   ],
   "source": [
    "print(lin_weights.idxmax()) # returns the index of the maximum value\n",
    "print(lin_weights.idxmin()) # returns the index of the minumum value"
   ]
  },
  {
   "cell_type": "markdown",
   "metadata": {},
   "source": [
    "### Question 19"
   ]
  },
  {
   "cell_type": "code",
   "execution_count": 323,
   "metadata": {},
   "outputs": [
    {
     "output_type": "execute_result",
     "data": {
      "text/plain": "4"
     },
     "metadata": {},
     "execution_count": 323
    }
   ],
   "source": [
    "# returns the number of feautures with non-zero values\n",
    "np.count_nonzero(lasso_weights['lasso weight'])"
   ]
  },
  {
   "cell_type": "markdown",
   "metadata": {},
   "source": [
    "## Model Summary and highlights\n",
    "- the linear model and chosen ridge model performed quite similarly\n",
    "- lasso was relatively worse off than the other models\n",
    "- a grid or random search would better exploit each model's performance  "
   ]
  },
  {
   "cell_type": "code",
   "execution_count": null,
   "metadata": {},
   "outputs": [],
   "source": []
  }
 ]
}