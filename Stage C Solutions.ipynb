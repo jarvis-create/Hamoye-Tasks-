{
 "metadata": {
  "language_info": {
   "codemirror_mode": {
    "name": "ipython",
    "version": 3
   },
   "file_extension": ".py",
   "mimetype": "text/x-python",
   "name": "python",
   "nbconvert_exporter": "python",
   "pygments_lexer": "ipython3",
   "version": "3.7.4-final"
  },
  "orig_nbformat": 2,
  "kernelspec": {
   "name": "python3",
   "display_name": "Python 3"
  }
 },
 "nbformat": 4,
 "nbformat_minor": 2,
 "cells": [
  {
   "cell_type": "code",
   "execution_count": 1,
   "metadata": {},
   "outputs": [],
   "source": [
    "import pandas as pd\n",
    "import numpy as np"
   ]
  },
  {
   "cell_type": "code",
   "execution_count": 2,
   "metadata": {},
   "outputs": [],
   "source": [
    "df=pd.read_csv(r'C:\\Users\\m_joekid\\Desktop\\Vscodes\\datasets\\Data_for_UCI_named.csv')"
   ]
  },
  {
   "cell_type": "markdown",
   "metadata": {},
   "source": [
    "## Descriptive Stats"
   ]
  },
  {
   "cell_type": "code",
   "execution_count": 3,
   "metadata": {},
   "outputs": [
    {
     "output_type": "execute_result",
     "data": {
      "text/plain": "       tau1      tau2      tau3      tau4        p1        p2        p3  \\\n0  2.959060  3.079885  8.381025  9.780754  3.763085 -0.782604 -1.257395   \n1  9.304097  4.902524  3.047541  1.369357  5.067812 -1.940058 -1.872742   \n\n         p4        g1        g2        g3        g4      stab     stabf  \n0 -1.723086  0.650456  0.859578  0.887445  0.958034  0.055347  unstable  \n1 -1.255012  0.413441  0.862414  0.562139  0.781760 -0.005957    stable  ",
      "text/html": "<div>\n<style scoped>\n    .dataframe tbody tr th:only-of-type {\n        vertical-align: middle;\n    }\n\n    .dataframe tbody tr th {\n        vertical-align: top;\n    }\n\n    .dataframe thead th {\n        text-align: right;\n    }\n</style>\n<table border=\"1\" class=\"dataframe\">\n  <thead>\n    <tr style=\"text-align: right;\">\n      <th></th>\n      <th>tau1</th>\n      <th>tau2</th>\n      <th>tau3</th>\n      <th>tau4</th>\n      <th>p1</th>\n      <th>p2</th>\n      <th>p3</th>\n      <th>p4</th>\n      <th>g1</th>\n      <th>g2</th>\n      <th>g3</th>\n      <th>g4</th>\n      <th>stab</th>\n      <th>stabf</th>\n    </tr>\n  </thead>\n  <tbody>\n    <tr>\n      <td>0</td>\n      <td>2.959060</td>\n      <td>3.079885</td>\n      <td>8.381025</td>\n      <td>9.780754</td>\n      <td>3.763085</td>\n      <td>-0.782604</td>\n      <td>-1.257395</td>\n      <td>-1.723086</td>\n      <td>0.650456</td>\n      <td>0.859578</td>\n      <td>0.887445</td>\n      <td>0.958034</td>\n      <td>0.055347</td>\n      <td>unstable</td>\n    </tr>\n    <tr>\n      <td>1</td>\n      <td>9.304097</td>\n      <td>4.902524</td>\n      <td>3.047541</td>\n      <td>1.369357</td>\n      <td>5.067812</td>\n      <td>-1.940058</td>\n      <td>-1.872742</td>\n      <td>-1.255012</td>\n      <td>0.413441</td>\n      <td>0.862414</td>\n      <td>0.562139</td>\n      <td>0.781760</td>\n      <td>-0.005957</td>\n      <td>stable</td>\n    </tr>\n  </tbody>\n</table>\n</div>"
     },
     "metadata": {},
     "execution_count": 3
    }
   ],
   "source": [
    "df.head(2)"
   ]
  },
  {
   "cell_type": "code",
   "execution_count": 4,
   "metadata": {},
   "outputs": [
    {
     "output_type": "execute_result",
     "data": {
      "text/plain": "        count      mean       std       min       25%       50%       75%  \\\ntau1  10000.0  5.250000  2.742548  0.500793  2.874892  5.250004  7.624690   \ntau2  10000.0  5.250001  2.742549  0.500141  2.875140  5.249981  7.624893   \ntau3  10000.0  5.250004  2.742549  0.500788  2.875522  5.249979  7.624948   \ntau4  10000.0  5.249997  2.742556  0.500473  2.874950  5.249734  7.624838   \np1    10000.0  3.750000  0.752160  1.582590  3.218300  3.751025  4.282420   \np2    10000.0 -1.250000  0.433035 -1.999891 -1.624901 -1.249966 -0.874977   \np3    10000.0 -1.250000  0.433035 -1.999945 -1.625025 -1.249974 -0.875043   \np4    10000.0 -1.250000  0.433035 -1.999926 -1.624960 -1.250007 -0.875065   \ng1    10000.0  0.525000  0.274256  0.050009  0.287521  0.525009  0.762435   \ng2    10000.0  0.525000  0.274255  0.050053  0.287552  0.525003  0.762490   \ng3    10000.0  0.525000  0.274255  0.050054  0.287514  0.525015  0.762440   \ng4    10000.0  0.525000  0.274255  0.050028  0.287494  0.525002  0.762433   \nstab  10000.0  0.015731  0.036919 -0.080760 -0.015557  0.017142  0.044878   \n\n           max  \ntau1  9.999469  \ntau2  9.999837  \ntau3  9.999450  \ntau4  9.999443  \np1    5.864418  \np2   -0.500108  \np3   -0.500072  \np4   -0.500025  \ng1    0.999937  \ng2    0.999944  \ng3    0.999982  \ng4    0.999930  \nstab  0.109403  ",
      "text/html": "<div>\n<style scoped>\n    .dataframe tbody tr th:only-of-type {\n        vertical-align: middle;\n    }\n\n    .dataframe tbody tr th {\n        vertical-align: top;\n    }\n\n    .dataframe thead th {\n        text-align: right;\n    }\n</style>\n<table border=\"1\" class=\"dataframe\">\n  <thead>\n    <tr style=\"text-align: right;\">\n      <th></th>\n      <th>count</th>\n      <th>mean</th>\n      <th>std</th>\n      <th>min</th>\n      <th>25%</th>\n      <th>50%</th>\n      <th>75%</th>\n      <th>max</th>\n    </tr>\n  </thead>\n  <tbody>\n    <tr>\n      <td>tau1</td>\n      <td>10000.0</td>\n      <td>5.250000</td>\n      <td>2.742548</td>\n      <td>0.500793</td>\n      <td>2.874892</td>\n      <td>5.250004</td>\n      <td>7.624690</td>\n      <td>9.999469</td>\n    </tr>\n    <tr>\n      <td>tau2</td>\n      <td>10000.0</td>\n      <td>5.250001</td>\n      <td>2.742549</td>\n      <td>0.500141</td>\n      <td>2.875140</td>\n      <td>5.249981</td>\n      <td>7.624893</td>\n      <td>9.999837</td>\n    </tr>\n    <tr>\n      <td>tau3</td>\n      <td>10000.0</td>\n      <td>5.250004</td>\n      <td>2.742549</td>\n      <td>0.500788</td>\n      <td>2.875522</td>\n      <td>5.249979</td>\n      <td>7.624948</td>\n      <td>9.999450</td>\n    </tr>\n    <tr>\n      <td>tau4</td>\n      <td>10000.0</td>\n      <td>5.249997</td>\n      <td>2.742556</td>\n      <td>0.500473</td>\n      <td>2.874950</td>\n      <td>5.249734</td>\n      <td>7.624838</td>\n      <td>9.999443</td>\n    </tr>\n    <tr>\n      <td>p1</td>\n      <td>10000.0</td>\n      <td>3.750000</td>\n      <td>0.752160</td>\n      <td>1.582590</td>\n      <td>3.218300</td>\n      <td>3.751025</td>\n      <td>4.282420</td>\n      <td>5.864418</td>\n    </tr>\n    <tr>\n      <td>p2</td>\n      <td>10000.0</td>\n      <td>-1.250000</td>\n      <td>0.433035</td>\n      <td>-1.999891</td>\n      <td>-1.624901</td>\n      <td>-1.249966</td>\n      <td>-0.874977</td>\n      <td>-0.500108</td>\n    </tr>\n    <tr>\n      <td>p3</td>\n      <td>10000.0</td>\n      <td>-1.250000</td>\n      <td>0.433035</td>\n      <td>-1.999945</td>\n      <td>-1.625025</td>\n      <td>-1.249974</td>\n      <td>-0.875043</td>\n      <td>-0.500072</td>\n    </tr>\n    <tr>\n      <td>p4</td>\n      <td>10000.0</td>\n      <td>-1.250000</td>\n      <td>0.433035</td>\n      <td>-1.999926</td>\n      <td>-1.624960</td>\n      <td>-1.250007</td>\n      <td>-0.875065</td>\n      <td>-0.500025</td>\n    </tr>\n    <tr>\n      <td>g1</td>\n      <td>10000.0</td>\n      <td>0.525000</td>\n      <td>0.274256</td>\n      <td>0.050009</td>\n      <td>0.287521</td>\n      <td>0.525009</td>\n      <td>0.762435</td>\n      <td>0.999937</td>\n    </tr>\n    <tr>\n      <td>g2</td>\n      <td>10000.0</td>\n      <td>0.525000</td>\n      <td>0.274255</td>\n      <td>0.050053</td>\n      <td>0.287552</td>\n      <td>0.525003</td>\n      <td>0.762490</td>\n      <td>0.999944</td>\n    </tr>\n    <tr>\n      <td>g3</td>\n      <td>10000.0</td>\n      <td>0.525000</td>\n      <td>0.274255</td>\n      <td>0.050054</td>\n      <td>0.287514</td>\n      <td>0.525015</td>\n      <td>0.762440</td>\n      <td>0.999982</td>\n    </tr>\n    <tr>\n      <td>g4</td>\n      <td>10000.0</td>\n      <td>0.525000</td>\n      <td>0.274255</td>\n      <td>0.050028</td>\n      <td>0.287494</td>\n      <td>0.525002</td>\n      <td>0.762433</td>\n      <td>0.999930</td>\n    </tr>\n    <tr>\n      <td>stab</td>\n      <td>10000.0</td>\n      <td>0.015731</td>\n      <td>0.036919</td>\n      <td>-0.080760</td>\n      <td>-0.015557</td>\n      <td>0.017142</td>\n      <td>0.044878</td>\n      <td>0.109403</td>\n    </tr>\n  </tbody>\n</table>\n</div>"
     },
     "metadata": {},
     "execution_count": 4
    }
   ],
   "source": [
    "df.describe().T"
   ]
  },
  {
   "cell_type": "markdown",
   "metadata": {},
   "source": [
    "##  | |"
   ]
  },
  {
   "cell_type": "code",
   "execution_count": 5,
   "metadata": {
    "tags": []
   },
   "outputs": [],
   "source": [
    "# only one dependent variable is kept since both have direct relationship \n",
    "df.drop('stab',inplace=True,axis=1)"
   ]
  },
  {
   "cell_type": "code",
   "execution_count": 6,
   "metadata": {},
   "outputs": [],
   "source": [
    "# Extreme boosting and light gradient boosting libary  \n",
    "from xgboost import XGBClassifier\n",
    "from lightgbm import LGBMClassifier"
   ]
  },
  {
   "cell_type": "code",
   "execution_count": 7,
   "metadata": {},
   "outputs": [],
   "source": [
    "# X contains the predictive feautures and y the dependent variable\n",
    "X=df.drop('stabf',axis=1)\n",
    "y=df['stabf']"
   ]
  },
  {
   "cell_type": "code",
   "execution_count": 8,
   "metadata": {},
   "outputs": [],
   "source": [
    "from sklearn.model_selection import train_test_split"
   ]
  },
  {
   "cell_type": "code",
   "execution_count": 9,
   "metadata": {},
   "outputs": [],
   "source": [
    "# splitting the dataset 80:20\n",
    "X_train, X_test, y_train, y_test = train_test_split(X, y, test_size=0.2, random_state=1)"
   ]
  },
  {
   "cell_type": "code",
   "execution_count": 10,
   "metadata": {},
   "outputs": [],
   "source": [
    "from sklearn.pipeline import make_pipeline\n",
    "from sklearn.ensemble import RandomForestClassifier,ExtraTreesClassifier\n",
    "from sklearn.preprocessing import StandardScaler\n",
    "from sklearn.model_selection import RandomizedSearchCV\n",
    "from sklearn.metrics import classification_report,confusion_matrix\n",
    "from sklearn import metrics"
   ]
  },
  {
   "cell_type": "code",
   "execution_count": 11,
   "metadata": {},
   "outputs": [],
   "source": [
    "scaler=StandardScaler()"
   ]
  },
  {
   "cell_type": "code",
   "execution_count": 12,
   "metadata": {},
   "outputs": [],
   "source": [
    "# Defining model hyperparameters\n",
    "rf=RandomForestClassifier(random_state=1,n_estimators=100)\n",
    "extra=ExtraTreesClassifier(random_state=1,n_estimators=100)\n",
    "xgb=XGBClassifier(random_state=1)\n",
    "lgb=LGBMClassifier(random_state=1)"
   ]
  },
  {
   "cell_type": "code",
   "execution_count": 13,
   "metadata": {},
   "outputs": [],
   "source": [
    "# Creating model pipelines that scales and fits the data\n",
    "rf_pipe=make_pipeline(scaler,rf)\n",
    "extra_pipe=make_pipeline(scaler,extra)\n",
    "xgb_pipe=make_pipeline(scaler,xgb)\n",
    "lgb_pipe=make_pipeline(scaler,lgb)"
   ]
  },
  {
   "cell_type": "code",
   "execution_count": 14,
   "metadata": {},
   "outputs": [
    {
     "output_type": "execute_result",
     "data": {
      "text/plain": "Pipeline(memory=None,\n         steps=[('standardscaler',\n                 StandardScaler(copy=True, with_mean=True, with_std=True)),\n                ('lgbmclassifier',\n                 LGBMClassifier(boosting_type='gbdt', class_weight=None,\n                                colsample_bytree=1.0, importance_type='split',\n                                learning_rate=0.1, max_depth=-1,\n                                min_child_samples=20, min_child_weight=0.001,\n                                min_split_gain=0.0, n_estimators=100, n_jobs=-1,\n                                num_leaves=31, objective=None, random_state=1,\n                                reg_alpha=0.0, reg_lambda=0.0, silent=True,\n                                subsample=1.0, subsample_for_bin=200000,\n                                subsample_freq=0))],\n         verbose=False)"
     },
     "metadata": {},
     "execution_count": 14
    }
   ],
   "source": [
    "# Fitting the training data \n",
    "rf_pipe.fit(X_train,y_train)\n",
    "extra_pipe.fit(X_train,y_train)\n",
    "xgb_pipe.fit(X_train,y_train)\n",
    "lgb_pipe.fit(X_train,y_train)"
   ]
  },
  {
   "cell_type": "code",
   "execution_count": 15,
   "metadata": {},
   "outputs": [],
   "source": [
    "# Model Prediction\n",
    "rf_pred=rf_pipe.predict(X_test)\n",
    "extra_pred=extra_pipe.predict(X_test)\n",
    "xgb_pred=xgb_pipe.predict(X_test)\n",
    "lgb_pred=lgb_pipe.predict(X_test)"
   ]
  },
  {
   "cell_type": "markdown",
   "metadata": {},
   "source": [
    "## Randomized Search for Extra_trees"
   ]
  },
  {
   "cell_type": "code",
   "execution_count": 16,
   "metadata": {},
   "outputs": [],
   "source": [
    "# Defining the range of Hyperparameters for RandomSearch\n",
    "n_estimators = [50,100,300,500,1000]\n",
    "min_samples_split = [2,3,5,7,9]\n",
    "min_samples_leaf = [1,2,4,6,8]\n",
    "max_features = ['auto','sqrt','log2',None] "
   ]
  },
  {
   "cell_type": "code",
   "execution_count": 17,
   "metadata": {},
   "outputs": [],
   "source": [
    "hyperparameter_grid = {'extratreesclassifier__n_estimators': n_estimators,\n",
    "                       'extratreesclassifier__min_samples_leaf': min_samples_leaf,\n",
    "                       'extratreesclassifier__min_samples_split': min_samples_split,\n",
    "                       'extratreesclassifier__max_features': max_features}"
   ]
  },
  {
   "cell_type": "code",
   "execution_count": 18,
   "metadata": {
    "tags": []
   },
   "outputs": [
    {
     "output_type": "stream",
     "name": "stdout",
     "text": "Fitting 5 folds for each of 10 candidates, totalling 50 fits\n[Parallel(n_jobs=-1)]: Using backend LokyBackend with 4 concurrent workers.\n[Parallel(n_jobs=-1)]: Done  42 tasks      | elapsed:  1.5min\n[Parallel(n_jobs=-1)]: Done  50 out of  50 | elapsed:  1.7min finished\n"
    },
    {
     "output_type": "execute_result",
     "data": {
      "text/plain": "RandomizedSearchCV(cv=5, error_score='raise-deprecating',\n                   estimator=Pipeline(memory=None,\n                                      steps=[('standardscaler',\n                                              StandardScaler(copy=True,\n                                                             with_mean=True,\n                                                             with_std=True)),\n                                             ('extratreesclassifier',\n                                              ExtraTreesClassifier(bootstrap=False,\n                                                                   class_weight=None,\n                                                                   criterion='gini',\n                                                                   max_depth=None,\n                                                                   max_features='auto',\n                                                                   max_leaf_nodes=None,\n                                                                   min_impurity_decrease=0.0,\n                                                                   min_i...\n                   param_distributions={'extratreesclassifier__max_features': ['auto',\n                                                                               'sqrt',\n                                                                               'log2',\n                                                                               None],\n                                        'extratreesclassifier__min_samples_leaf': [1,\n                                                                                   2,\n                                                                                   4,\n                                                                                   6,\n                                                                                   8],\n                                        'extratreesclassifier__min_samples_split': [2,\n                                                                                    3,\n                                                                                    5,\n                                                                                    7,\n                                                                                    9],\n                                        'extratreesclassifier__n_estimators': [50,\n                                                                               100,\n                                                                               300,\n                                                                               500,\n                                                                               1000]},\n                   pre_dispatch='2*n_jobs', random_state=1, refit=True,\n                   return_train_score=False, scoring='accuracy', verbose=1)"
     },
     "metadata": {},
     "execution_count": 18
    }
   ],
   "source": [
    "random_search=RandomizedSearchCV(extra_pipe,hyperparameter_grid,random_state=1,n_jobs=-1,verbose=1,scoring='accuracy',n_iter=10,cv=5)\n",
    "random_search.fit(X_train,y_train)"
   ]
  },
  {
   "cell_type": "code",
   "execution_count": 19,
   "metadata": {},
   "outputs": [
    {
     "output_type": "execute_result",
     "data": {
      "text/plain": "{'extratreesclassifier__n_estimators': 1000,\n 'extratreesclassifier__min_samples_split': 2,\n 'extratreesclassifier__min_samples_leaf': 8,\n 'extratreesclassifier__max_features': None}"
     },
     "metadata": {},
     "execution_count": 19
    }
   ],
   "source": [
    "# this code shows the best parameters of the randomsearch\n",
    "random_search.best_params_"
   ]
  },
  {
   "cell_type": "markdown",
   "metadata": {},
   "source": [
    "## Re-training Extra-tree on Best Params"
   ]
  },
  {
   "cell_type": "code",
   "execution_count": 20,
   "metadata": {},
   "outputs": [],
   "source": [
    "extra2=ExtraTreesClassifier(n_estimators=1000,max_features=None,min_samples_leaf=8,min_samples_split=2)"
   ]
  },
  {
   "cell_type": "code",
   "execution_count": 21,
   "metadata": {},
   "outputs": [
    {
     "output_type": "execute_result",
     "data": {
      "text/plain": "ExtraTreesClassifier(bootstrap=False, class_weight=None, criterion='gini',\n                     max_depth=None, max_features=None, max_leaf_nodes=None,\n                     min_impurity_decrease=0.0, min_impurity_split=None,\n                     min_samples_leaf=8, min_samples_split=2,\n                     min_weight_fraction_leaf=0.0, n_estimators=1000,\n                     n_jobs=None, oob_score=False, random_state=None, verbose=0,\n                     warm_start=False)"
     },
     "metadata": {},
     "execution_count": 21
    }
   ],
   "source": [
    "extra2.fit(X_train,y_train)"
   ]
  },
  {
   "cell_type": "code",
   "execution_count": 22,
   "metadata": {},
   "outputs": [],
   "source": [
    "extra_pred2=extra2.predict(X_test)"
   ]
  },
  {
   "cell_type": "code",
   "execution_count": 23,
   "metadata": {},
   "outputs": [
    {
     "output_type": "execute_result",
     "data": {
      "text/plain": "0.927"
     },
     "metadata": {},
     "execution_count": 23
    }
   ],
   "source": [
    "metrics.accuracy_score(y_test,extra_pred2)"
   ]
  },
  {
   "cell_type": "markdown",
   "metadata": {},
   "source": [
    "## |Metrics|"
   ]
  },
  {
   "cell_type": "code",
   "execution_count": 24,
   "metadata": {
    "tags": []
   },
   "outputs": [
    {
     "output_type": "stream",
     "name": "stdout",
     "text": "precision    recall  f1-score   support\n\n      stable     0.9191    0.8778    0.8980       712\n    unstable     0.9341    0.9573    0.9456      1288\n\n    accuracy                         0.9290      2000\n   macro avg     0.9266    0.9176    0.9218      2000\nweighted avg     0.9288    0.9290    0.9286      2000\n\n"
    }
   ],
   "source": [
    "print(classification_report(y_test,rf_pred,digits=4))"
   ]
  },
  {
   "cell_type": "code",
   "execution_count": 25,
   "metadata": {},
   "outputs": [
    {
     "output_type": "execute_result",
     "data": {
      "text/plain": "0.9375"
     },
     "metadata": {},
     "execution_count": 25
    }
   ],
   "source": [
    "# Accuracy Score of the light gradient boosting model\n",
    "metrics.accuracy_score(y_test,lgb_pred)"
   ]
  },
  {
   "cell_type": "code",
   "execution_count": 26,
   "metadata": {},
   "outputs": [
    {
     "output_type": "execute_result",
     "data": {
      "text/plain": "0.9195"
     },
     "metadata": {},
     "execution_count": 26
    }
   ],
   "source": [
    "# Accuracy of the extreme boosting model \n",
    "metrics.accuracy_score(y_test,xgb_pred)"
   ]
  },
  {
   "cell_type": "markdown",
   "metadata": {},
   "source": [
    "## Optimized Extra_tree Feature Importance "
   ]
  },
  {
   "cell_type": "code",
   "execution_count": 30,
   "metadata": {},
   "outputs": [],
   "source": [
    "weights=extra2.feature_importances_"
   ]
  },
  {
   "cell_type": "code",
   "execution_count": 31,
   "metadata": {},
   "outputs": [],
   "source": [
    "weight=pd.DataFrame(weights, index=X_train.columns)"
   ]
  },
  {
   "cell_type": "code",
   "execution_count": 34,
   "metadata": {
    "tags": []
   },
   "outputs": [
    {
     "output_type": "stream",
     "name": "stdout",
     "text": "0    tau2\ndtype: object\n0    p1\ndtype: object\n"
    }
   ],
   "source": [
    "print (weight.idxmax()) # Feature with the most importance \n",
    "print (weight.idxmin()) # Feature with the least importance"
   ]
  },
  {
   "cell_type": "code",
   "execution_count": null,
   "metadata": {},
   "outputs": [],
   "source": []
  }
 ]
}