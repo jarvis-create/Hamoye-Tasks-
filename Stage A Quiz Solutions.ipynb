{
 "cells": [
  {
   "cell_type": "code",
   "execution_count": 1,
   "metadata": {},
   "outputs": [],
   "source": [
    "# import the neccessary libraries into the envinronment \n",
    "import pandas as pd\n",
    "import numpy as np"
   ]
  },
  {
   "cell_type": "code",
   "execution_count": 2,
   "metadata": {},
   "outputs": [],
   "source": [
    "# importing the visualization libraies \n",
    "import matplotlib.pyplot as plt \n",
    "import seaborn as sns\n",
    "%matplotlib inline "
   ]
  },
  {
   "cell_type": "code",
   "execution_count": 3,
   "metadata": {},
   "outputs": [],
   "source": [
    "import operator\n",
    "import pandas_profiling"
   ]
  },
  {
   "cell_type": "code",
   "execution_count": 4,
   "metadata": {},
   "outputs": [],
   "source": [
    "ds=pd.read_csv(r'C:\\Users\\m_joekid\\Desktop\\Vscodes\\datasets\\util.csv')"
   ]
  },
  {
   "cell_type": "markdown",
   "metadata": {},
   "source": [
    "## Exploratory Data Analysis (Quiz Solutions)"
   ]
  },
  {
   "cell_type": "code",
   "execution_count": 5,
   "metadata": {
    "tags": []
   },
   "outputs": [
    {
     "output_type": "stream",
     "name": "stdout",
     "text": "<class 'pandas.core.frame.DataFrame'>\nRangeIndex: 29523 entries, 0 to 29522\nData columns (total 11 columns):\nrecord_id                       29523 non-null object\nutility_id_ferc1                29523 non-null int64\nreport_year                     29523 non-null int64\nplant_name_ferc1                29523 non-null object\nfuel_type_code_pudl             29523 non-null object\nfuel_unit                       29343 non-null object\nfuel_qty_burned                 29523 non-null float64\nfuel_mmbtu_per_unit             29523 non-null float64\nfuel_cost_per_unit_burned       29523 non-null float64\nfuel_cost_per_unit_delivered    29523 non-null float64\nfuel_cost_per_mmbtu             29523 non-null float64\ndtypes: float64(5), int64(2), object(4)\nmemory usage: 2.5+ MB\n"
    }
   ],
   "source": [
    "ds.info()"
   ]
  },
  {
   "cell_type": "code",
   "execution_count": 6,
   "metadata": {},
   "outputs": [
    {
     "output_type": "execute_result",
     "data": {
      "text/plain": "'gas'"
     },
     "metadata": {},
     "execution_count": 6
    }
   ],
   "source": [
    "ds.groupby('fuel_type_code_pudl').mean()['fuel_cost_per_unit_burned'].idxmin() # this returns the index of the minimum value "
   ]
  },
  {
   "cell_type": "code",
   "execution_count": 7,
   "metadata": {},
   "outputs": [
    {
     "output_type": "execute_result",
     "data": {
      "text/plain": "count    29523.00\nmean         8.49\nstd         10.60\nmin          0.00\n25%          1.02\n50%          5.76\n75%         17.01\nmax        341.26\nName: fuel_mmbtu_per_unit, dtype: float64"
     },
     "metadata": {},
     "execution_count": 7
    }
   ],
   "source": [
    "ds.describe().round(decimals=2)['fuel_mmbtu_per_unit']"
   ]
  },
  {
   "cell_type": "code",
   "execution_count": 8,
   "metadata": {
    "tags": []
   },
   "outputs": [
    {
     "output_type": "stream",
     "name": "stdout",
     "text": "skewness of fuel qty burned: 15.85\n\n\nKurtosis of fuel qty burned: 651.37\n"
    }
   ],
   "source": [
    "print ('skewness of fuel qty burned:',ds.skew().round(decimals=2)['fuel_qty_burned'])\n",
    "print('\\n')\n",
    "print('Kurtosis of fuel qty burned:', ds.kurt().round(decimals=2)['fuel_qty_burned'])"
   ]
  },
  {
   "cell_type": "code",
   "execution_count": 9,
   "metadata": {
    "tags": []
   },
   "outputs": [
    {
     "output_type": "stream",
     "name": "stdout",
     "text": "record_id                         0\nutility_id_ferc1                  0\nreport_year                       0\nplant_name_ferc1                  0\nfuel_type_code_pudl               0\nfuel_unit                       180\nfuel_qty_burned                   0\nfuel_mmbtu_per_unit               0\nfuel_cost_per_unit_burned         0\nfuel_cost_per_unit_delivered      0\nfuel_cost_per_mmbtu               0\ndtype: int64\n\n\npercentage of missing value: 0.609694136774718\n"
    }
   ],
   "source": [
    "print (ds.isnull().sum())\n",
    "print('\\n')\n",
    "print('percentage of missing value:', ds.isnull().sum().sum()/ds.shape[0]*100)"
   ]
  },
  {
   "cell_type": "code",
   "execution_count": 10,
   "metadata": {},
   "outputs": [
    {
     "output_type": "execute_result",
     "data": {
      "text/plain": "utility_id_ferc1               -0.037863\nfuel_qty_burned                -0.018535\nfuel_mmbtu_per_unit            -0.010034\nfuel_cost_per_mmbtu            -0.000437\nfuel_cost_per_unit_delivered    0.011007\nreport_year                     0.013599\nfuel_cost_per_unit_burned       1.000000\nName: fuel_cost_per_unit_burned, dtype: float64"
     },
     "metadata": {},
     "execution_count": 10
    }
   ],
   "source": [
    "ds.corr()['fuel_cost_per_unit_burned'].sort_values(ascending=True)"
   ]
  },
  {
   "cell_type": "code",
   "execution_count": 11,
   "metadata": {
    "tags": []
   },
   "outputs": [],
   "source": [
    "t=ds.groupby(['report_year','fuel_type_code_pudl']).mean()"
   ]
  },
  {
   "cell_type": "code",
   "execution_count": 12,
   "metadata": {
    "tags": []
   },
   "outputs": [
    {
     "output_type": "stream",
     "name": "stdout",
     "text": "31.546467368421077\n\n\n27.61623433874713\n"
    }
   ],
   "source": [
    "print (t.loc[1994].loc['coal']['fuel_cost_per_unit_burned']) # prints the value of the fuel cost per unit burned for coal in 1994\n",
    "print ('\\n') # prints a space \n",
    "print (t.loc[1998].loc['coal']['fuel_cost_per_unit_burned']) # prints the value of the fuel cost oer unit burned for coal in 1998"
   ]
  },
  {
   "cell_type": "code",
   "execution_count": 13,
   "metadata": {},
   "outputs": [],
   "source": [
    "t1=t.xs('coal',level='fuel_type_code_pudl')['fuel_cost_per_unit_burned'] # cross-sectioning "
   ]
  },
  {
   "cell_type": "code",
   "execution_count": 14,
   "metadata": {},
   "outputs": [
    {
     "output_type": "execute_result",
     "data": {
      "text/plain": "-0.12458551963280118"
     },
     "metadata": {},
     "execution_count": 14
    }
   ],
   "source": [
    "# since the pandas function pct.change() works only with the immediate previous number, i customised for the whole list\n",
    "pct=t1/t1[1994]-1 # pct change for the whole list with respect to 1994, can be easily tweaked for any year \n",
    "pct[1998] #percentage change for 1998"
   ]
  },
  {
   "cell_type": "code",
   "execution_count": 15,
   "metadata": {},
   "outputs": [
    {
     "output_type": "execute_result",
     "data": {
      "text/plain": "1997"
     },
     "metadata": {},
     "execution_count": 15
    }
   ],
   "source": [
    "ds.groupby('report_year').mean()['fuel_cost_per_unit_delivered'].idxmax() # returns the index of the maximum fuel cost per unit delievered"
   ]
  },
  {
   "cell_type": "code",
   "execution_count": null,
   "metadata": {},
   "outputs": [],
   "source": []
  }
 ],
 "metadata": {
  "language_info": {
   "codemirror_mode": {
    "name": "ipython",
    "version": 3
   },
   "file_extension": ".py",
   "mimetype": "text/x-python",
   "name": "python",
   "nbconvert_exporter": "python",
   "pygments_lexer": "ipython3",
   "version": 3
  },
  "orig_nbformat": 2,
  "kernelspec": {
   "name": "python_defaultSpec_1594756948202",
   "display_name": "Python 3.7.4 64-bit ('ProgramData': virtualenv)"
  }
 },
 "nbformat": 4,
 "nbformat_minor": 2
}