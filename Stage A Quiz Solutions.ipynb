{
 "cells": [
  {
   "cell_type": "code",
   "execution_count": 1,
   "metadata": {},
   "outputs": [],
   "source": [
    "# import the neccessary libraries into the envinronment \n",
    "import pandas as pd\n",
    "import numpy as np"
   ]
  },
  {
   "cell_type": "code",
   "execution_count": 2,
   "metadata": {},
   "outputs": [],
   "source": [
    "# importing the visualization libraies \n",
    "import matplotlib.pyplot as plt \n",
    "import seaborn as sns\n",
    "%matplotlib inline "
   ]
  },
  {
   "cell_type": "code",
   "execution_count": 3,
   "metadata": {},
   "outputs": [],
   "source": [
    "import operator\n",
    "import pandas_profiling"
   ]
  },
  {
   "cell_type": "code",
   "execution_count": 4,
   "metadata": {},
   "outputs": [],
   "source": [
    "ds=pd.read_csv(r'C:\\Users\\m_joekid\\Desktop\\Vscodes\\datasets\\util.csv')"
   ]
  },
  {
   "cell_type": "markdown",
   "metadata": {},
   "source": [
    "## Exploratory Data Analysis (Quiz Solutions)"
   ]
  },
  {
   "cell_type": "code",
   "execution_count": 20,
   "metadata": {
    "tags": []
   },
   "outputs": [
    {
     "output_type": "execute_result",
     "data": {
      "text/plain": "record_id                        object\nutility_id_ferc1                  int64\nreport_year                       int64\nplant_name_ferc1                 object\nfuel_type_code_pudl              object\nfuel_unit                        object\nfuel_qty_burned                 float64\nfuel_mmbtu_per_unit             float64\nfuel_cost_per_unit_burned       float64\nfuel_cost_per_unit_delivered    float64\nfuel_cost_per_mmbtu             float64\ndtype: object"
     },
     "metadata": {},
     "execution_count": 20
    }
   ],
   "source": [
    "ds.dtypes"
   ]
  },
  {
   "cell_type": "code",
   "execution_count": 6,
   "metadata": {},
   "outputs": [
    {
     "output_type": "execute_result",
     "data": {
      "text/plain": "'gas'"
     },
     "metadata": {},
     "execution_count": 6
    }
   ],
   "source": [
    "ds.groupby('fuel_type_code_pudl').mean()['fuel_cost_per_unit_burned'].idxmin() # this returns the index of the minimum value "
   ]
  },
  {
   "cell_type": "code",
   "execution_count": 7,
   "metadata": {},
   "outputs": [
    {
     "output_type": "execute_result",
     "data": {
      "text/plain": "count    29523.00\nmean         8.49\nstd         10.60\nmin          0.00\n25%          1.02\n50%          5.76\n75%         17.01\nmax        341.26\nName: fuel_mmbtu_per_unit, dtype: float64"
     },
     "metadata": {},
     "execution_count": 7
    }
   ],
   "source": [
    "ds.describe().round(decimals=2)['fuel_mmbtu_per_unit']"
   ]
  },
  {
   "cell_type": "code",
   "execution_count": 8,
   "metadata": {
    "tags": []
   },
   "outputs": [
    {
     "output_type": "stream",
     "name": "stdout",
     "text": "skewness of fuel qty burned: 15.85\n\n\nKurtosis of fuel qty burned: 651.37\n"
    }
   ],
   "source": [
    "print ('skewness of fuel qty burned:',ds.skew().round(decimals=2)['fuel_qty_burned'])\n",
    "print('\\n')\n",
    "print('Kurtosis of fuel qty burned:', ds.kurt().round(decimals=2)['fuel_qty_burned'])"
   ]
  },
  {
   "cell_type": "code",
   "execution_count": 9,
   "metadata": {
    "tags": []
   },
   "outputs": [
    {
     "output_type": "stream",
     "name": "stdout",
     "text": "record_id                         0\nutility_id_ferc1                  0\nreport_year                       0\nplant_name_ferc1                  0\nfuel_type_code_pudl               0\nfuel_unit                       180\nfuel_qty_burned                   0\nfuel_mmbtu_per_unit               0\nfuel_cost_per_unit_burned         0\nfuel_cost_per_unit_delivered      0\nfuel_cost_per_mmbtu               0\ndtype: int64\n\n\npercentage of missing value: 0.609694136774718\n"
    }
   ],
   "source": [
    "print (ds.isnull().sum())\n",
    "print('\\n')\n",
    "print('percentage of missing value:', ds.isnull().sum().sum()/ds.shape[0]*100)"
   ]
  },
  {
   "cell_type": "code",
   "execution_count": 10,
   "metadata": {},
   "outputs": [
    {
     "output_type": "execute_result",
     "data": {
      "text/plain": "utility_id_ferc1               -0.037863\nfuel_qty_burned                -0.018535\nfuel_mmbtu_per_unit            -0.010034\nfuel_cost_per_mmbtu            -0.000437\nfuel_cost_per_unit_delivered    0.011007\nreport_year                     0.013599\nfuel_cost_per_unit_burned       1.000000\nName: fuel_cost_per_unit_burned, dtype: float64"
     },
     "metadata": {},
     "execution_count": 10
    }
   ],
   "source": [
    "ds.corr()['fuel_cost_per_unit_burned'].sort_values(ascending=True)"
   ]
  },
  {
   "cell_type": "code",
   "execution_count": 16,
   "metadata": {
    "tags": []
   },
   "outputs": [],
   "source": [
    "t=ds.groupby(['report_year','fuel_type_code_pudl']).sum()"
   ]
  },
  {
   "cell_type": "code",
   "execution_count": 18,
   "metadata": {},
   "outputs": [],
   "source": [
    "t1=t.xs('coal',level='fuel_type_code_pudl')['fuel_cost_per_unit_burned'] # cross-sectioning "
   ]
  },
  {
   "cell_type": "code",
   "execution_count": 19,
   "metadata": {},
   "outputs": [
    {
     "output_type": "execute_result",
     "data": {
      "text/plain": "-0.20567654518260492"
     },
     "metadata": {},
     "execution_count": 19
    }
   ],
   "source": [
    "# since the pandas function pct.change() works only with the immediate previous number, i customised for the whole list\n",
    "pct=t1/t1[1994]-1 # pct change for the whole list with respect to 1994, can be easily tweaked for any year \n",
    "pct[1998] #percentage change for 1998"
   ]
  },
  {
   "cell_type": "code",
   "execution_count": 15,
   "metadata": {},
   "outputs": [
    {
     "output_type": "execute_result",
     "data": {
      "text/plain": "1997"
     },
     "metadata": {},
     "execution_count": 15
    }
   ],
   "source": [
    "ds.groupby('report_year').mean()['fuel_cost_per_unit_delivered'].idxmax() # returns the index of the maximum fuel cost per unit delievered"
   ]
  }
 ],
 "metadata": {
  "language_info": {
   "codemirror_mode": {
    "name": "ipython",
    "version": 3
   },
   "file_extension": ".py",
   "mimetype": "text/x-python",
   "name": "python",
   "nbconvert_exporter": "python",
   "pygments_lexer": "ipython3",
   "version": 3
  },
  "orig_nbformat": 2,
  "kernelspec": {
   "name": "python_defaultSpec_1594756948202",
   "display_name": "Python 3.7.4 64-bit ('ProgramData': virtualenv)"
  }
 },
 "nbformat": 4,
 "nbformat_minor": 2
}